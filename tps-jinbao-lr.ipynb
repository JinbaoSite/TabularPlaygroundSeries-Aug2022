{
 "cells": [
  {
   "cell_type": "code",
   "execution_count": 1,
   "id": "fe412b5a",
   "metadata": {
    "_cell_guid": "b1076dfc-b9ad-4769-8c92-a6c4dae69d19",
    "_uuid": "8f2839f25d086af736a60e9eeb907d3b93b6e0e5",
    "execution": {
     "iopub.execute_input": "2022-08-06T08:28:06.532196Z",
     "iopub.status.busy": "2022-08-06T08:28:06.531749Z",
     "iopub.status.idle": "2022-08-06T08:28:06.545540Z",
     "shell.execute_reply": "2022-08-06T08:28:06.544763Z"
    },
    "papermill": {
     "duration": 0.025407,
     "end_time": "2022-08-06T08:28:06.549538",
     "exception": false,
     "start_time": "2022-08-06T08:28:06.524131",
     "status": "completed"
    },
    "tags": []
   },
   "outputs": [
    {
     "name": "stdout",
     "output_type": "stream",
     "text": [
      "/kaggle/input/tabular-playground-series-aug-2022/sample_submission.csv\n",
      "/kaggle/input/tabular-playground-series-aug-2022/train.csv\n",
      "/kaggle/input/tabular-playground-series-aug-2022/test.csv\n"
     ]
    }
   ],
   "source": [
    "# This Python 3 environment comes with many helpful analytics libraries installed\n",
    "# It is defined by the kaggle/python Docker image: https://github.com/kaggle/docker-python\n",
    "# For example, here's several helpful packages to load\n",
    "\n",
    "import numpy as np # linear algebra\n",
    "import pandas as pd # data processing, CSV file I/O (e.g. pd.read_csv)\n",
    "\n",
    "# Input data files are available in the read-only \"../input/\" directory\n",
    "# For example, running this (by clicking run or pressing Shift+Enter) will list all files under the input directory\n",
    "\n",
    "import os\n",
    "for dirname, _, filenames in os.walk('/kaggle/input'):\n",
    "    for filename in filenames:\n",
    "        print(os.path.join(dirname, filename))\n",
    "\n",
    "# You can write up to 20GB to the current directory (/kaggle/working/) that gets preserved as output when you create a version using \"Save & Run All\" \n",
    "# You can also write temporary files to /kaggle/temp/, but they won't be saved outside of the current session"
   ]
  },
  {
   "cell_type": "code",
   "execution_count": 2,
   "id": "47d20d78",
   "metadata": {
    "execution": {
     "iopub.execute_input": "2022-08-06T08:28:06.561678Z",
     "iopub.status.busy": "2022-08-06T08:28:06.560989Z",
     "iopub.status.idle": "2022-08-06T08:28:07.788015Z",
     "shell.execute_reply": "2022-08-06T08:28:07.786837Z"
    },
    "papermill": {
     "duration": 1.235784,
     "end_time": "2022-08-06T08:28:07.790870",
     "exception": false,
     "start_time": "2022-08-06T08:28:06.555086",
     "status": "completed"
    },
    "tags": []
   },
   "outputs": [],
   "source": [
    "import numpy as np\n",
    "import pandas as pd\n",
    "from sklearn.preprocessing import LabelEncoder\n",
    "from sklearn.linear_model import LogisticRegression\n",
    "from sklearn.model_selection import StratifiedKFold, cross_val_score\n",
    "from sklearn.metrics import roc_auc_score\n",
    "import warnings\n",
    "warnings.filterwarnings('ignore')"
   ]
  },
  {
   "cell_type": "code",
   "execution_count": 3,
   "id": "e3d001da",
   "metadata": {
    "execution": {
     "iopub.execute_input": "2022-08-06T08:28:07.801706Z",
     "iopub.status.busy": "2022-08-06T08:28:07.801328Z",
     "iopub.status.idle": "2022-08-06T08:28:07.806017Z",
     "shell.execute_reply": "2022-08-06T08:28:07.804948Z"
    },
    "papermill": {
     "duration": 0.013352,
     "end_time": "2022-08-06T08:28:07.808910",
     "exception": false,
     "start_time": "2022-08-06T08:28:07.795558",
     "status": "completed"
    },
    "tags": []
   },
   "outputs": [],
   "source": [
    "train_path = '/kaggle/input/tabular-playground-series-aug-2022/train.csv'\n",
    "test_path = '/kaggle/input/tabular-playground-series-aug-2022/test.csv'\n",
    "submission_path = '/kaggle/input/tabular-playground-series-aug-2022/sample_submission.csv'"
   ]
  },
  {
   "cell_type": "code",
   "execution_count": 4,
   "id": "78ef7fbf",
   "metadata": {
    "execution": {
     "iopub.execute_input": "2022-08-06T08:28:07.820012Z",
     "iopub.status.busy": "2022-08-06T08:28:07.819283Z",
     "iopub.status.idle": "2022-08-06T08:28:08.110060Z",
     "shell.execute_reply": "2022-08-06T08:28:08.109111Z"
    },
    "papermill": {
     "duration": 0.299138,
     "end_time": "2022-08-06T08:28:08.112581",
     "exception": false,
     "start_time": "2022-08-06T08:28:07.813443",
     "status": "completed"
    },
    "tags": []
   },
   "outputs": [],
   "source": [
    "train_data = pd.read_csv(train_path)\n",
    "test_data = pd.read_csv(test_path)\n",
    "sample_sub = pd.read_csv(submission_path)"
   ]
  },
  {
   "cell_type": "code",
   "execution_count": 5,
   "id": "d05967fe",
   "metadata": {
    "execution": {
     "iopub.execute_input": "2022-08-06T08:28:08.124232Z",
     "iopub.status.busy": "2022-08-06T08:28:08.123863Z",
     "iopub.status.idle": "2022-08-06T08:28:08.143709Z",
     "shell.execute_reply": "2022-08-06T08:28:08.142785Z"
    },
    "papermill": {
     "duration": 0.028136,
     "end_time": "2022-08-06T08:28:08.145966",
     "exception": false,
     "start_time": "2022-08-06T08:28:08.117830",
     "status": "completed"
    },
    "tags": []
   },
   "outputs": [
    {
     "data": {
      "text/plain": [
       "0    20921\n",
       "1     5649\n",
       "Name: failure, dtype: int64"
      ]
     },
     "execution_count": 5,
     "metadata": {},
     "output_type": "execute_result"
    }
   ],
   "source": [
    "train_data['failure'].value_counts()"
   ]
  },
  {
   "cell_type": "code",
   "execution_count": 6,
   "id": "1f9bb91b",
   "metadata": {
    "execution": {
     "iopub.execute_input": "2022-08-06T08:28:08.157104Z",
     "iopub.status.busy": "2022-08-06T08:28:08.156725Z",
     "iopub.status.idle": "2022-08-06T08:28:08.176171Z",
     "shell.execute_reply": "2022-08-06T08:28:08.174751Z"
    },
    "papermill": {
     "duration": 0.027859,
     "end_time": "2022-08-06T08:28:08.178658",
     "exception": false,
     "start_time": "2022-08-06T08:28:08.150799",
     "status": "completed"
    },
    "tags": []
   },
   "outputs": [
    {
     "name": "stdout",
     "output_type": "stream",
     "text": [
      "Train data missing value is = 3.1791807803286916 %\n",
      "Test data missing value is  = 3.1506217408744486 %\n"
     ]
    }
   ],
   "source": [
    "print('Train data missing value is = {} %'.format(100 * train_data.isna().sum().sum() / (len(train_data)*24)))\n",
    "print('Test data missing value is  = {} %'.format(100 * test_data.isna().sum().sum() / (len(test_data)*24)))"
   ]
  },
  {
   "cell_type": "code",
   "execution_count": 7,
   "id": "6566ad43",
   "metadata": {
    "execution": {
     "iopub.execute_input": "2022-08-06T08:28:08.190315Z",
     "iopub.status.busy": "2022-08-06T08:28:08.189176Z",
     "iopub.status.idle": "2022-08-06T08:28:08.796319Z",
     "shell.execute_reply": "2022-08-06T08:28:08.795143Z"
    },
    "papermill": {
     "duration": 0.615971,
     "end_time": "2022-08-06T08:28:08.799262",
     "exception": false,
     "start_time": "2022-08-06T08:28:08.183291",
     "status": "completed"
    },
    "tags": []
   },
   "outputs": [],
   "source": [
    "train_data.fillna(train_data.mean(), inplace=True)\n",
    "test_data.fillna(train_data.mean(), inplace=True)"
   ]
  },
  {
   "cell_type": "code",
   "execution_count": 8,
   "id": "590ffd8d",
   "metadata": {
    "execution": {
     "iopub.execute_input": "2022-08-06T08:28:08.811294Z",
     "iopub.status.busy": "2022-08-06T08:28:08.810906Z",
     "iopub.status.idle": "2022-08-06T08:28:08.851514Z",
     "shell.execute_reply": "2022-08-06T08:28:08.850196Z"
    },
    "papermill": {
     "duration": 0.049461,
     "end_time": "2022-08-06T08:28:08.854335",
     "exception": false,
     "start_time": "2022-08-06T08:28:08.804874",
     "status": "completed"
    },
    "tags": []
   },
   "outputs": [],
   "source": [
    "test_data['failure'] = -1\n",
    "data = pd.concat([train_data, test_data]).reset_index(drop=True)"
   ]
  },
  {
   "cell_type": "code",
   "execution_count": 9,
   "id": "a8daec61",
   "metadata": {
    "execution": {
     "iopub.execute_input": "2022-08-06T08:28:08.865452Z",
     "iopub.status.busy": "2022-08-06T08:28:08.865079Z",
     "iopub.status.idle": "2022-08-06T08:28:08.871115Z",
     "shell.execute_reply": "2022-08-06T08:28:08.869945Z"
    },
    "papermill": {
     "duration": 0.014055,
     "end_time": "2022-08-06T08:28:08.873216",
     "exception": false,
     "start_time": "2022-08-06T08:28:08.859161",
     "status": "completed"
    },
    "tags": []
   },
   "outputs": [],
   "source": [
    "cat_columns = ['product_code', 'attribute_0', 'attribute_1']\n",
    "num_columns = [col for col in train_data.columns if col not in ['failure', 'id'] + cat_columns]\n",
    "feature_columns = cat_columns + num_columns\n",
    "target = 'failure'"
   ]
  },
  {
   "cell_type": "code",
   "execution_count": 10,
   "id": "af9ab7dc",
   "metadata": {
    "execution": {
     "iopub.execute_input": "2022-08-06T08:28:08.884730Z",
     "iopub.status.busy": "2022-08-06T08:28:08.884012Z",
     "iopub.status.idle": "2022-08-06T08:28:08.926343Z",
     "shell.execute_reply": "2022-08-06T08:28:08.925122Z"
    },
    "papermill": {
     "duration": 0.051161,
     "end_time": "2022-08-06T08:28:08.929073",
     "exception": false,
     "start_time": "2022-08-06T08:28:08.877912",
     "status": "completed"
    },
    "tags": []
   },
   "outputs": [],
   "source": [
    "for col in cat_columns:\n",
    "    le = LabelEncoder()\n",
    "    le.fit(data[col])\n",
    "    train_data[col] = le.transform(train_data[col])\n",
    "    test_data[col] = le.transform(test_data[col])"
   ]
  },
  {
   "cell_type": "code",
   "execution_count": 11,
   "id": "44048397",
   "metadata": {
    "execution": {
     "iopub.execute_input": "2022-08-06T08:28:08.940506Z",
     "iopub.status.busy": "2022-08-06T08:28:08.939995Z",
     "iopub.status.idle": "2022-08-06T08:28:08.968806Z",
     "shell.execute_reply": "2022-08-06T08:28:08.967691Z"
    },
    "papermill": {
     "duration": 0.037293,
     "end_time": "2022-08-06T08:28:08.971238",
     "exception": false,
     "start_time": "2022-08-06T08:28:08.933945",
     "status": "completed"
    },
    "tags": []
   },
   "outputs": [
    {
     "data": {
      "text/html": [
       "<div>\n",
       "<style scoped>\n",
       "    .dataframe tbody tr th:only-of-type {\n",
       "        vertical-align: middle;\n",
       "    }\n",
       "\n",
       "    .dataframe tbody tr th {\n",
       "        vertical-align: top;\n",
       "    }\n",
       "\n",
       "    .dataframe thead th {\n",
       "        text-align: right;\n",
       "    }\n",
       "</style>\n",
       "<table border=\"1\" class=\"dataframe\">\n",
       "  <thead>\n",
       "    <tr style=\"text-align: right;\">\n",
       "      <th></th>\n",
       "      <th>id</th>\n",
       "      <th>product_code</th>\n",
       "      <th>loading</th>\n",
       "      <th>attribute_0</th>\n",
       "      <th>attribute_1</th>\n",
       "      <th>attribute_2</th>\n",
       "      <th>attribute_3</th>\n",
       "      <th>measurement_0</th>\n",
       "      <th>measurement_1</th>\n",
       "      <th>measurement_2</th>\n",
       "      <th>...</th>\n",
       "      <th>measurement_9</th>\n",
       "      <th>measurement_10</th>\n",
       "      <th>measurement_11</th>\n",
       "      <th>measurement_12</th>\n",
       "      <th>measurement_13</th>\n",
       "      <th>measurement_14</th>\n",
       "      <th>measurement_15</th>\n",
       "      <th>measurement_16</th>\n",
       "      <th>measurement_17</th>\n",
       "      <th>failure</th>\n",
       "    </tr>\n",
       "  </thead>\n",
       "  <tbody>\n",
       "    <tr>\n",
       "      <th>0</th>\n",
       "      <td>0</td>\n",
       "      <td>0</td>\n",
       "      <td>80.10</td>\n",
       "      <td>1</td>\n",
       "      <td>3</td>\n",
       "      <td>9</td>\n",
       "      <td>5</td>\n",
       "      <td>7</td>\n",
       "      <td>8</td>\n",
       "      <td>4</td>\n",
       "      <td>...</td>\n",
       "      <td>10.672</td>\n",
       "      <td>15.859</td>\n",
       "      <td>17.594000</td>\n",
       "      <td>15.193</td>\n",
       "      <td>15.029</td>\n",
       "      <td>16.048444</td>\n",
       "      <td>13.034</td>\n",
       "      <td>14.684</td>\n",
       "      <td>764.100</td>\n",
       "      <td>0</td>\n",
       "    </tr>\n",
       "    <tr>\n",
       "      <th>1</th>\n",
       "      <td>1</td>\n",
       "      <td>0</td>\n",
       "      <td>84.89</td>\n",
       "      <td>1</td>\n",
       "      <td>3</td>\n",
       "      <td>9</td>\n",
       "      <td>5</td>\n",
       "      <td>14</td>\n",
       "      <td>3</td>\n",
       "      <td>3</td>\n",
       "      <td>...</td>\n",
       "      <td>12.448</td>\n",
       "      <td>17.947</td>\n",
       "      <td>17.915000</td>\n",
       "      <td>11.755</td>\n",
       "      <td>14.732</td>\n",
       "      <td>15.425000</td>\n",
       "      <td>14.395</td>\n",
       "      <td>15.631</td>\n",
       "      <td>682.057</td>\n",
       "      <td>0</td>\n",
       "    </tr>\n",
       "    <tr>\n",
       "      <th>2</th>\n",
       "      <td>2</td>\n",
       "      <td>0</td>\n",
       "      <td>82.43</td>\n",
       "      <td>1</td>\n",
       "      <td>3</td>\n",
       "      <td>9</td>\n",
       "      <td>5</td>\n",
       "      <td>12</td>\n",
       "      <td>1</td>\n",
       "      <td>5</td>\n",
       "      <td>...</td>\n",
       "      <td>12.715</td>\n",
       "      <td>15.607</td>\n",
       "      <td>19.172085</td>\n",
       "      <td>13.798</td>\n",
       "      <td>16.711</td>\n",
       "      <td>18.631000</td>\n",
       "      <td>14.094</td>\n",
       "      <td>17.946</td>\n",
       "      <td>663.376</td>\n",
       "      <td>0</td>\n",
       "    </tr>\n",
       "    <tr>\n",
       "      <th>3</th>\n",
       "      <td>3</td>\n",
       "      <td>0</td>\n",
       "      <td>101.07</td>\n",
       "      <td>1</td>\n",
       "      <td>3</td>\n",
       "      <td>9</td>\n",
       "      <td>5</td>\n",
       "      <td>13</td>\n",
       "      <td>2</td>\n",
       "      <td>6</td>\n",
       "      <td>...</td>\n",
       "      <td>12.471</td>\n",
       "      <td>16.346</td>\n",
       "      <td>18.377000</td>\n",
       "      <td>10.020</td>\n",
       "      <td>15.250</td>\n",
       "      <td>15.562000</td>\n",
       "      <td>16.154</td>\n",
       "      <td>17.172</td>\n",
       "      <td>826.282</td>\n",
       "      <td>0</td>\n",
       "    </tr>\n",
       "    <tr>\n",
       "      <th>4</th>\n",
       "      <td>4</td>\n",
       "      <td>0</td>\n",
       "      <td>188.06</td>\n",
       "      <td>1</td>\n",
       "      <td>3</td>\n",
       "      <td>9</td>\n",
       "      <td>5</td>\n",
       "      <td>9</td>\n",
       "      <td>2</td>\n",
       "      <td>8</td>\n",
       "      <td>...</td>\n",
       "      <td>10.337</td>\n",
       "      <td>17.082</td>\n",
       "      <td>19.932000</td>\n",
       "      <td>12.428</td>\n",
       "      <td>16.182</td>\n",
       "      <td>12.760000</td>\n",
       "      <td>13.153</td>\n",
       "      <td>16.412</td>\n",
       "      <td>579.885</td>\n",
       "      <td>0</td>\n",
       "    </tr>\n",
       "  </tbody>\n",
       "</table>\n",
       "<p>5 rows × 26 columns</p>\n",
       "</div>"
      ],
      "text/plain": [
       "   id  product_code  loading  attribute_0  attribute_1  attribute_2  \\\n",
       "0   0             0    80.10            1            3            9   \n",
       "1   1             0    84.89            1            3            9   \n",
       "2   2             0    82.43            1            3            9   \n",
       "3   3             0   101.07            1            3            9   \n",
       "4   4             0   188.06            1            3            9   \n",
       "\n",
       "   attribute_3  measurement_0  measurement_1  measurement_2  ...  \\\n",
       "0            5              7              8              4  ...   \n",
       "1            5             14              3              3  ...   \n",
       "2            5             12              1              5  ...   \n",
       "3            5             13              2              6  ...   \n",
       "4            5              9              2              8  ...   \n",
       "\n",
       "   measurement_9  measurement_10  measurement_11  measurement_12  \\\n",
       "0         10.672          15.859       17.594000          15.193   \n",
       "1         12.448          17.947       17.915000          11.755   \n",
       "2         12.715          15.607       19.172085          13.798   \n",
       "3         12.471          16.346       18.377000          10.020   \n",
       "4         10.337          17.082       19.932000          12.428   \n",
       "\n",
       "   measurement_13  measurement_14  measurement_15  measurement_16  \\\n",
       "0          15.029       16.048444          13.034          14.684   \n",
       "1          14.732       15.425000          14.395          15.631   \n",
       "2          16.711       18.631000          14.094          17.946   \n",
       "3          15.250       15.562000          16.154          17.172   \n",
       "4          16.182       12.760000          13.153          16.412   \n",
       "\n",
       "   measurement_17  failure  \n",
       "0         764.100        0  \n",
       "1         682.057        0  \n",
       "2         663.376        0  \n",
       "3         826.282        0  \n",
       "4         579.885        0  \n",
       "\n",
       "[5 rows x 26 columns]"
      ]
     },
     "execution_count": 11,
     "metadata": {},
     "output_type": "execute_result"
    }
   ],
   "source": [
    "train_data.head()"
   ]
  },
  {
   "cell_type": "code",
   "execution_count": 12,
   "id": "144cdf52",
   "metadata": {
    "execution": {
     "iopub.execute_input": "2022-08-06T08:28:08.982897Z",
     "iopub.status.busy": "2022-08-06T08:28:08.982186Z",
     "iopub.status.idle": "2022-08-06T08:28:08.987802Z",
     "shell.execute_reply": "2022-08-06T08:28:08.986661Z"
    },
    "papermill": {
     "duration": 0.013817,
     "end_time": "2022-08-06T08:28:08.990052",
     "exception": false,
     "start_time": "2022-08-06T08:28:08.976235",
     "status": "completed"
    },
    "tags": []
   },
   "outputs": [],
   "source": [
    "model = LogisticRegression(max_iter = 500, C=0.0001, penalty='l2', solver='newton-cg')"
   ]
  },
  {
   "cell_type": "code",
   "execution_count": 13,
   "id": "4dbc35f3",
   "metadata": {
    "execution": {
     "iopub.execute_input": "2022-08-06T08:28:09.001884Z",
     "iopub.status.busy": "2022-08-06T08:28:09.001457Z",
     "iopub.status.idle": "2022-08-06T08:28:09.014674Z",
     "shell.execute_reply": "2022-08-06T08:28:09.013531Z"
    },
    "papermill": {
     "duration": 0.022461,
     "end_time": "2022-08-06T08:28:09.017464",
     "exception": false,
     "start_time": "2022-08-06T08:28:08.995003",
     "status": "completed"
    },
    "tags": []
   },
   "outputs": [],
   "source": [
    "train = train_data[feature_columns]\n",
    "label = train_data[target]\n",
    "test = test_data[feature_columns]"
   ]
  },
  {
   "cell_type": "code",
   "execution_count": 14,
   "id": "0fddfdac",
   "metadata": {
    "execution": {
     "iopub.execute_input": "2022-08-06T08:28:09.029486Z",
     "iopub.status.busy": "2022-08-06T08:28:09.029115Z",
     "iopub.status.idle": "2022-08-06T08:28:13.742782Z",
     "shell.execute_reply": "2022-08-06T08:28:13.740689Z"
    },
    "papermill": {
     "duration": 4.726765,
     "end_time": "2022-08-06T08:28:13.749420",
     "exception": false,
     "start_time": "2022-08-06T08:28:09.022655",
     "status": "completed"
    },
    "tags": []
   },
   "outputs": [
    {
     "name": "stdout",
     "output_type": "stream",
     "text": [
      "KFold 0, the best auc is 0.5976\n",
      "KFold 1, the best auc is 0.5864\n",
      "KFold 2, the best auc is 0.5879\n",
      "KFold 3, the best auc is 0.5976\n",
      "KFold 4, the best auc is 0.5810\n",
      "Overall AUC=0.5885825246089892\n"
     ]
    }
   ],
   "source": [
    "kfold = 5\n",
    "oof_preds = np.zeros((train_data.shape[0]))\n",
    "test_preds = np.zeros(test_data.shape[0])\n",
    "skf = StratifiedKFold(n_splits=kfold)\n",
    "\n",
    "for k, (train_index, test_index) in enumerate(skf.split(train, label)):\n",
    "    x_train, x_test = train.iloc[train_index, :], train.iloc[test_index, :]\n",
    "    y_train, y_test = label.iloc[train_index], label.iloc[test_index]\n",
    "    \n",
    "    model.fit(x_train,y_train)\n",
    "    \n",
    "    y_pred = model.predict_proba(x_test)[:,1]\n",
    "    oof_preds[test_index] = y_pred.ravel()\n",
    "    auc = roc_auc_score(y_test,y_pred)\n",
    "    print(\"KFold %d, the best auc is %.4f\" % (k, auc))\n",
    "    test_fold_preds = model.predict_proba(test)[:, 1]\n",
    "    test_preds += test_fold_preds.ravel()\n",
    "print(\"Overall AUC={}\".format(roc_auc_score(label, oof_preds)))"
   ]
  },
  {
   "cell_type": "code",
   "execution_count": 15,
   "id": "b5557c9f",
   "metadata": {
    "execution": {
     "iopub.execute_input": "2022-08-06T08:28:13.779170Z",
     "iopub.status.busy": "2022-08-06T08:28:13.778446Z",
     "iopub.status.idle": "2022-08-06T08:28:13.872474Z",
     "shell.execute_reply": "2022-08-06T08:28:13.871139Z"
    },
    "papermill": {
     "duration": 0.112253,
     "end_time": "2022-08-06T08:28:13.875285",
     "exception": false,
     "start_time": "2022-08-06T08:28:13.763032",
     "status": "completed"
    },
    "tags": []
   },
   "outputs": [],
   "source": [
    "test_preds /= kfold\n",
    "test_preds = pd.Series(test_preds, name='failure')\n",
    "sample_sub['failure'] = test_preds\n",
    "submission = sample_sub.copy()\n",
    "submission.to_csv('submission.csv',index= False)"
   ]
  },
  {
   "cell_type": "code",
   "execution_count": 16,
   "id": "3214458d",
   "metadata": {
    "execution": {
     "iopub.execute_input": "2022-08-06T08:28:13.888750Z",
     "iopub.status.busy": "2022-08-06T08:28:13.888315Z",
     "iopub.status.idle": "2022-08-06T08:28:13.898603Z",
     "shell.execute_reply": "2022-08-06T08:28:13.897500Z"
    },
    "papermill": {
     "duration": 0.019699,
     "end_time": "2022-08-06T08:28:13.901239",
     "exception": false,
     "start_time": "2022-08-06T08:28:13.881540",
     "status": "completed"
    },
    "tags": []
   },
   "outputs": [
    {
     "data": {
      "text/html": [
       "<div>\n",
       "<style scoped>\n",
       "    .dataframe tbody tr th:only-of-type {\n",
       "        vertical-align: middle;\n",
       "    }\n",
       "\n",
       "    .dataframe tbody tr th {\n",
       "        vertical-align: top;\n",
       "    }\n",
       "\n",
       "    .dataframe thead th {\n",
       "        text-align: right;\n",
       "    }\n",
       "</style>\n",
       "<table border=\"1\" class=\"dataframe\">\n",
       "  <thead>\n",
       "    <tr style=\"text-align: right;\">\n",
       "      <th></th>\n",
       "      <th>id</th>\n",
       "      <th>failure</th>\n",
       "    </tr>\n",
       "  </thead>\n",
       "  <tbody>\n",
       "    <tr>\n",
       "      <th>0</th>\n",
       "      <td>26570</td>\n",
       "      <td>0.199871</td>\n",
       "    </tr>\n",
       "    <tr>\n",
       "      <th>1</th>\n",
       "      <td>26571</td>\n",
       "      <td>0.169476</td>\n",
       "    </tr>\n",
       "    <tr>\n",
       "      <th>2</th>\n",
       "      <td>26572</td>\n",
       "      <td>0.185729</td>\n",
       "    </tr>\n",
       "    <tr>\n",
       "      <th>3</th>\n",
       "      <td>26573</td>\n",
       "      <td>0.188955</td>\n",
       "    </tr>\n",
       "    <tr>\n",
       "      <th>4</th>\n",
       "      <td>26574</td>\n",
       "      <td>0.351334</td>\n",
       "    </tr>\n",
       "  </tbody>\n",
       "</table>\n",
       "</div>"
      ],
      "text/plain": [
       "      id   failure\n",
       "0  26570  0.199871\n",
       "1  26571  0.169476\n",
       "2  26572  0.185729\n",
       "3  26573  0.188955\n",
       "4  26574  0.351334"
      ]
     },
     "execution_count": 16,
     "metadata": {},
     "output_type": "execute_result"
    }
   ],
   "source": [
    "submission.head()"
   ]
  }
 ],
 "metadata": {
  "kernelspec": {
   "display_name": "Python 3",
   "language": "python",
   "name": "python3"
  },
  "language_info": {
   "codemirror_mode": {
    "name": "ipython",
    "version": 3
   },
   "file_extension": ".py",
   "mimetype": "text/x-python",
   "name": "python",
   "nbconvert_exporter": "python",
   "pygments_lexer": "ipython3",
   "version": "3.7.12"
  },
  "papermill": {
   "default_parameters": {},
   "duration": 17.866598,
   "end_time": "2022-08-06T08:28:14.628753",
   "environment_variables": {},
   "exception": null,
   "input_path": "__notebook__.ipynb",
   "output_path": "__notebook__.ipynb",
   "parameters": {},
   "start_time": "2022-08-06T08:27:56.762155",
   "version": "2.3.4"
  }
 },
 "nbformat": 4,
 "nbformat_minor": 5
}
